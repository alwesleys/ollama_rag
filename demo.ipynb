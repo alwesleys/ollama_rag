{
 "cells": [
  {
   "cell_type": "markdown",
   "metadata": {},
   "source": [
    "# Prerequisites\n",
    "\n",
    "# Python        - install via windows store\n",
    "# Ollama        - https://ollama.com/"
   ]
  },
  {
   "cell_type": "markdown",
   "metadata": {},
   "source": [
    "# Setup the Virtual Environment"
   ]
  },
  {
   "cell_type": "code",
   "execution_count": 1,
   "metadata": {},
   "outputs": [],
   "source": [
    "! python3 -m venv venv"
   ]
  },
  {
   "cell_type": "markdown",
   "metadata": {},
   "source": [
    "# Activate venv - windows"
   ]
  },
  {
   "cell_type": "code",
   "execution_count": 7,
   "metadata": {},
   "outputs": [],
   "source": [
    "! .\\venv\\Scripts\\activate"
   ]
  },
  {
   "cell_type": "markdown",
   "metadata": {},
   "source": [
    "# Activate venv - linux / mac"
   ]
  },
  {
   "cell_type": "code",
   "execution_count": null,
   "metadata": {},
   "outputs": [],
   "source": [
    "! source venv/bin/activate"
   ]
  },
  {
   "cell_type": "markdown",
   "metadata": {},
   "source": [
    "# Install python libraries"
   ]
  },
  {
   "cell_type": "code",
   "execution_count": null,
   "metadata": {},
   "outputs": [],
   "source": [
    "! pip install -r requirements.txt"
   ]
  },
  {
   "cell_type": "markdown",
   "metadata": {},
   "source": [
    "# Code - Setup the LLM\n",
    "\n",
    "# REFERENCE DOC - https://python.langchain.com/docs/introduction/"
   ]
  },
  {
   "cell_type": "code",
   "execution_count": null,
   "metadata": {},
   "outputs": [],
   "source": [
    "# Define local llm\n",
    "from langchain_ollama import ChatOllama\n",
    "\n",
    "# use model name running in ollama localy\n",
    "# List all available models:    ollama list\n",
    "# Run specific model:           ollama run llama3.2:latest\n",
    "# Check running model:          ollama ps\n",
    "# https://ollama.com/search\n",
    "llm = ChatOllama(model=\"llama3.2:latest\")"
   ]
  },
  {
   "cell_type": "markdown",
   "metadata": {},
   "source": [
    "# Test LLM"
   ]
  },
  {
   "cell_type": "code",
   "execution_count": 12,
   "metadata": {},
   "outputs": [
    {
     "data": {
      "text/plain": [
       "AIMessage(content='J\\'aime programmer.\\n\\nNote: I used the formal \"je\" instead of the informal \"tu\", which is typically used with friends or people you know well in French. If you want to use the more casual form, you can say \"J\\'adore le programmement\".', additional_kwargs={}, response_metadata={'model': 'llama3.2:latest', 'created_at': '2025-04-01T03:10:39.3574431Z', 'done': True, 'done_reason': 'stop', 'total_duration': 1218333800, 'load_duration': 26410400, 'prompt_eval_count': 45, 'prompt_eval_duration': 86000000, 'eval_count': 58, 'eval_duration': 1104000000, 'message': Message(role='assistant', content='', images=None, tool_calls=None)}, id='run-076747b8-5bfa-4825-ac0c-48558a985fab-0', usage_metadata={'input_tokens': 45, 'output_tokens': 58, 'total_tokens': 103})"
      ]
     },
     "execution_count": 12,
     "metadata": {},
     "output_type": "execute_result"
    }
   ],
   "source": [
    "from langchain_core.messages import AIMessage\n",
    "\n",
    "messages = [\n",
    "    (\n",
    "        \"system\",\n",
    "        \"You are a helpful assistant that translates English to French. Translate the user sentence.\",\n",
    "    ),\n",
    "    (\"human\", \"I love programming.\"),\n",
    "]\n",
    "ai_msg = llm.invoke(messages)\n",
    "ai_msg"
   ]
  },
  {
   "cell_type": "markdown",
   "metadata": {},
   "source": [
    "# Code - Prepare document"
   ]
  },
  {
   "cell_type": "code",
   "execution_count": null,
   "metadata": {},
   "outputs": [],
   "source": [
    "# Define embeddings to convert documents to vectors\n",
    "from langchain_ollama import OllamaEmbeddings\n",
    "\n",
    "# can use specialize models for embeddings\n",
    "# https://ollama.com/search?c=embedding\n",
    "embeddings = OllamaEmbeddings( model=\"llama3.2:latest\")\n",
    "\n",
    "# Define vector store to index documents\n",
    "from langchain_core.vectorstores import InMemoryVectorStore\n",
    "\n",
    "vector_store = InMemoryVectorStore(embeddings)"
   ]
  },
  {
   "cell_type": "code",
   "execution_count": null,
   "metadata": {},
   "outputs": [],
   "source": [
    "# Define document loader to load PDFs\n",
    "from langchain_community.document_loaders import PyPDFLoader\n",
    "\n",
    "# Load PDF document\n",
    "docs = []\n",
    "loader = PyPDFLoader(file_path = \"./path/to/data.pdf\")\n",
    "docs_lazy = loader.lazy_load()\n",
    "for doc in docs_lazy:\n",
    "    docs.append(doc)\n",
    "\n",
    "# Index documents\n",
    "vector_store = InMemoryVectorStore.from_documents(docs,embeddings)"
   ]
  },
  {
   "cell_type": "markdown",
   "metadata": {},
   "source": [
    "# Check loaded docuent"
   ]
  },
  {
   "cell_type": "code",
   "execution_count": 28,
   "metadata": {},
   "outputs": [
    {
     "name": "stdout",
     "output_type": "stream",
     "text": [
      "2\n",
      "{'producer': 'Microsoft: Print To PDF',\n",
      " 'creator': 'PyPDF',\n",
      " 'creationdate': '2021-06-10T13:29:17+08:00',\n",
      " 'author': 'jinkybiscocho',\n",
      " 'moddate': '2021-06-10T13:29:17+08:00',\n",
      " 'title': 'Microsoft Word - BOTS chap08e - Response Codes',\n",
      " 'source': './data/bancnet_response_codes_june2021.pdf',\n",
      " 'total_pages': 2,\n",
      " 'page': 0,\n",
      " 'page_label': '1'}\n"
     ]
    }
   ],
   "source": [
    "import pprint\n",
    "print(len(docs))\n",
    "pprint.pp(docs[0].metadata)"
   ]
  },
  {
   "cell_type": "markdown",
   "metadata": {},
   "source": [
    "# Define Prompt - How should the AI answer"
   ]
  },
  {
   "cell_type": "code",
   "execution_count": 19,
   "metadata": {},
   "outputs": [
    {
     "name": "stderr",
     "output_type": "stream",
     "text": [
      "C:\\Users\\Wes\\AppData\\Local\\Packages\\PythonSoftwareFoundation.Python.3.12_qbz5n2kfra8p0\\LocalCache\\local-packages\\Python312\\site-packages\\langsmith\\client.py:277: LangSmithMissingAPIKeyWarning: API key must be provided when using hosted LangSmith API\n",
      "  warnings.warn(\n"
     ]
    }
   ],
   "source": [
    "# Define prompt for question-answering\n",
    "from langchain import hub\n",
    "\n",
    "prompt = hub.pull(\"rlm/rag-prompt\")\n",
    "\n",
    "# You are an assistant for question-answering tasks. \n",
    "# Use the following pieces of retrieved context to answer the question. \n",
    "# If you don't know the answer, just say that you don't know. \n",
    "# Use three sentences maximum and keep the answer concise.\n",
    "# Question: {question} \n",
    "# Context: {context} \n",
    "# Answer:"
   ]
  },
  {
   "cell_type": "markdown",
   "metadata": {},
   "source": [
    "# Retriever - Getting the Context"
   ]
  },
  {
   "cell_type": "code",
   "execution_count": 24,
   "metadata": {},
   "outputs": [],
   "source": [
    "from typing_extensions import List, TypedDict\n",
    "from langchain_core.documents import Document\n",
    "from langgraph.graph import START, StateGraph\n",
    "\n",
    "# Define state for application\n",
    "# being updated by Retriever and Generator steps\n",
    "class State(TypedDict):\n",
    "    question: str\n",
    "    context: List[Document]\n",
    "    answer: str\n",
    "\n",
    "# Define application steps\n",
    "# Retrieve top documents close to the question as context\n",
    "def retrieve(state: State):\n",
    "    retrieved_docs = vector_store.similarity_search(state[\"question\"])\n",
    "    return {\"context\": retrieved_docs}"
   ]
  },
  {
   "cell_type": "markdown",
   "metadata": {},
   "source": [
    "# Test retriever"
   ]
  },
  {
   "cell_type": "code",
   "execution_count": 34,
   "metadata": {},
   "outputs": [
    {
     "name": "stdout",
     "output_type": "stream",
     "text": [
      "[Document(id='dbdeef0d-037e-4170-bcbc-38fad82e9e20', metadata={'producer': 'Microsoft: Print To PDF', 'creator': 'PyPDF', 'creationdate': '2021-06-10T13:29:17+08:00', 'author': 'jinkybiscocho', 'moddate': '2021-06-10T13:29:17+08:00', 'title': 'Microsoft Word - BOTS chap08e - Response Codes', 'source': './data/bancnet_response_codes_june2021.pdf', 'total_pages': 2, 'page': 1, 'page_label': '2'}, page_content='TITLE OF MANUAL \\n \\nBancNet Online System \\nTechnical Specifications \\nTITLE OF SECTION \\n \\nAppendices \\n \\nDOCUMENT \\nCODE \\nBOTS \\nAUTHORIZATION \\n \\nAGL \\nINITIAL ISSUE \\nDATE \\nMAY 1995 \\nREVISION DATE \\n \\nAPRIL 2021 \\nREVISION NO. \\n \\n6 \\nPAGE NO. \\nE-2 \\n \\nBancNet IST \\nCODE \\nReject Code \\nIn ISO \\nDescription Card \\nRetained \\nScreen \\nMessage \\n706 76 Atalla device time-out No 17 \\n79,81,87,114 77 Synchronization error; Atalla transmission key \\nunmatched \\nNo 17 \\n93 78 Undefined bank code; Invalid bank No 37 \\n17 79 Invalid business date No 17 \\n613 80 Bank not accepting payment No 44 \\n76 81 Invalid client account number No 45 \\n458,600,606, \\n901 \\n82 Destination not available No 37 \\n609 83 Unable to process No 17 \\n601 84 Reversal - no line to TB No 17 \\n604 85 Reversal - TRD was rejected No 17 \\n602 86 Reversal - TRD was timed out No 17 \\n603 87 Reversal - fail to send to TB No 17 \\n88 88 MAC Error No 17 \\nCorresponding \\nIST code of \\nactual response \\ncode from \\nTransferee bank \\n89 Transferee rejected the deposit request No 59 \\n455 90 Cut off processing No 17 \\n91,900,465, \\n902,906 \\n91 Fail to send message to Issuer; Issuer is closed; \\nIssuer is down; No line to TB; Failed to send request \\nto TB; BancNet links all closed; Switch \\ndeinitialization; BancNet is closed; \\nNo 37 \\n102 32 Overdispense No 17 \\n96,226,456,457,\\n459,460,461,46\\n4,607 \\n96 Exceeds record length; Communication failure \\nbetween Acquirer and BancNet; Invalid \\ntransmission key; Key unsynch between Acquirer \\nand BancNet; No transmission key from BancNet; \\nSuspected system failure; Unable to process \\nNo 17 \\n99 99 Duplicate transaction No  17'),\n",
      " Document(id='eced0e46-1502-44c0-b9ca-585bb9d56620', metadata={'producer': 'Microsoft: Print To PDF', 'creator': 'PyPDF', 'creationdate': '2021-06-10T13:29:17+08:00', 'author': 'jinkybiscocho', 'moddate': '2021-06-10T13:29:17+08:00', 'title': 'Microsoft Word - BOTS chap08e - Response Codes', 'source': './data/bancnet_response_codes_june2021.pdf', 'total_pages': 2, 'page': 0, 'page_label': '1'}, page_content='TITLE OF MANUAL \\n \\nBancNet Online System \\nTechnical Specifications \\nTITLE OF SECTION \\n \\nAppendices \\n \\nDOCUMENT \\nCODE \\nBOTS \\nAUTHORIZATION \\n \\nAGL \\nINITIAL ISSUE \\nDATE \\nMAY 1995 \\nREVISION DATE \\n \\nAPRIL 2021 \\nREVISION NO. \\n \\n6 \\nPAGE NO. \\nE-1 \\n \\nE.1 Response Codes \\n \\nBancNet IST \\nCODE \\nReject Code \\nIn ISO \\nDescription Card \\nRetained \\nScreen \\nMessage \\n0 00 Completed Transaction No 19 \\n3 03 Invalid Merchant; POS Acquiring ID not defined No   \\n5 05 Unable to process; Wrong correction code; Invalid \\noperating mode; Invalid message mode; Original \\ntransaction rejected; Original transaction not found; \\nSuspected fraud; Catch all (private) \\nNo 17 \\n8 08 BancNet Times-out Issuer No 17 \\n9 09 Reversal without original transaction; Reversal on \\ndifferent transaction date \\nNo 17 \\n701 09 Request in progress No 17 \\n12 12 No activity allowed; Transaction A/C type invalid; \\nAccount not current account; Invalid transaction \\nNo 20 \\n13 13 Below minimum amount; Invalid amount No 28 \\n93 15 No such issuer; Invalid transferee bank No 37 \\n109 17 Customer cancellation No 4 \\n            19 19 System error No 17 \\n103 22 Hardware error No 17 \\n39 24 Not supported transaction; Fallback not supported No 20 \\n301 25 No record on file; account does not exist No 15 \\n30 30 Invalid message content No 17 \\n31 31 System malfunction No 17 \\n102 32 Partial dispense No 24 \\n75 38 Allowable PIN tries exceeded No 10 \\n39 39 No credit account No 16 \\n238 51 Insufficient account balance No 21 \\n52 52 Invalid current account No 15 \\n25 53 Invalid savings account No 15 \\n462 54 Expired card No 34 \\n55 55 Incorrect PIN No 6 \\n301 56 No card record No 15 \\n209 58 Invalid terminal ID No 37 \\n61 61 Exceeds amount limit No 22 \\n201 62 Primary account closed; Account closed; Account \\ninactive; Dormant account; Transferee account; \\nAccount frozen; Account blocked; Transferee \\naccount - blocked; Restricted card \\nNo 16 \\n63 63 MAC Key Verification Error No 17 \\n64 64 Exceeds transaction limit No 64 \\n65 65 Exceeds frequency limit; Exceeds withdrawal limit No 23 \\n200,67 67 Hot card; Stolen card; Hard captured card; \\nRestricted card; Lost card \\nYes 11 \\n68,605,610, \\n611,612 \\n68 BancNet times out issuer; No reply from associated \\nsystem; No reply received; Reversal due to \\ntime-out; No reply from bank; OB initiated reversal \\ndue to time-out; ATM initiated reversal due to \\ntime-out; POS initiated reversal due to time-out  \\nNo 17 \\n70 70 Transferee Bank not Ready for IBFT  No 60 \\n75 75 Maximum PIN tries exceeded No 10')]\n"
     ]
    }
   ],
   "source": [
    "# invoke graph by passing question (required by retrieve step)\n",
    "state = State(\n",
    "    question=\"What does response code of 91 mean?\",\n",
    "    context=[],\n",
    "    answer=\"\"\n",
    ")\n",
    "\n",
    "response = retrieve(state);\n",
    "pprint.pp(response.get(\"context\"))\n"
   ]
  },
  {
   "cell_type": "markdown",
   "metadata": {},
   "source": [
    "# Generator - Generate Answer based on Context + Question"
   ]
  },
  {
   "cell_type": "code",
   "execution_count": 35,
   "metadata": {},
   "outputs": [],
   "source": [
    "# Generate answer using retrieved documents in context\n",
    "# State contains the question and retrieved documents\n",
    "def generate(state: State):\n",
    "    docs_content = \"\\n\\n\".join(doc.page_content for doc in state[\"context\"])\n",
    "    messages = prompt.invoke({\"question\": state[\"question\"], \"context\": docs_content})\n",
    "    response = llm.invoke(messages)\n",
    "    return {\"answer\": response.content}\n",
    "\n"
   ]
  },
  {
   "cell_type": "markdown",
   "metadata": {},
   "source": [
    "# Test Generator"
   ]
  },
  {
   "cell_type": "code",
   "execution_count": null,
   "metadata": {},
   "outputs": [
    {
     "name": "stdout",
     "output_type": "stream",
     "text": [
      "('The response code of 61 means \"Exceeds amount limit\" and indicates that the '\n",
      " 'transaction exceeds the allowed amount limit. This is a rejection code. The '\n",
      " 'corresponding IST (Interbank Settlement Transfer) code for this response is '\n",
      " 'also listed as 61, and the actual response code from the transferee bank is '\n",
      " 'not specified.')\n"
     ]
    }
   ],
   "source": [
    "# invoke graph by passing question (required by retrieve step)\n",
    "state = State(\n",
    "    question=\"What does response code of 61 mean?\",\n",
    "    context= retrieve(state).get(\"context\"), # retrieved from previous step\n",
    "    answer=\"\"\n",
    ")\n",
    "\n",
    "response = generate(state)\n",
    "pprint.pp(response.get(\"answer\"))"
   ]
  },
  {
   "cell_type": "markdown",
   "metadata": {},
   "source": [
    "# Setup Graph - Retrieve > Generate"
   ]
  },
  {
   "cell_type": "code",
   "execution_count": 42,
   "metadata": {},
   "outputs": [],
   "source": [
    "# Setup graph (retrieve -> generate)\n",
    "graph_builder = StateGraph(State).add_sequence([retrieve, generate])\n",
    "graph_builder.add_edge(START, \"retrieve\")\n",
    "graph = graph_builder.compile()"
   ]
  },
  {
   "cell_type": "markdown",
   "metadata": {},
   "source": [
    "# Test Graph"
   ]
  },
  {
   "cell_type": "code",
   "execution_count": 53,
   "metadata": {},
   "outputs": [
    {
     "name": "stdout",
     "output_type": "stream",
     "text": [
      "Response code 91 indicates that the \"Fail to send message to Issuer; Issuer is closed; Issuer is down; No line to TB; Failed to send request to TB; BancNet links all closed; Switch deinitialization; BancNet is closed; No\".\n"
     ]
    }
   ],
   "source": [
    "# invoke graph by passing question (required by retrieve step)\n",
    "response = graph.invoke({\"question\": \"What does response code of 91 mean?\"})\n",
    "print(response[\"answer\"])"
   ]
  },
  {
   "cell_type": "markdown",
   "metadata": {},
   "source": [
    "# Compare Model size"
   ]
  },
  {
   "cell_type": "code",
   "execution_count": null,
   "metadata": {},
   "outputs": [],
   "source": [
    "# https://enclaveai.app/blog/2024/05/13/understanding-llm-model-sizes/\n",
    "# llm = ChatOllama(model=\"llama3.2:1b\") # use model with 1b params\n",
    "# llm = ChatOllama(model=\"llama3.2:latest\") # use model with 7b params"
   ]
  },
  {
   "cell_type": "markdown",
   "metadata": {},
   "source": [
    "# Demo on implementing a Chat Interface\n",
    "\n",
    "# REFERENCE DOC - https://docs.chainlit.io/get-started/overview"
   ]
  },
  {
   "cell_type": "code",
   "execution_count": 57,
   "metadata": {},
   "outputs": [
    {
     "name": "stdout",
     "output_type": "stream",
     "text": [
      "Defaulting to user installation because normal site-packages is not writeable\n",
      "Requirement already satisfied: chainlit in c:\\users\\wes\\appdata\\local\\packages\\pythonsoftwarefoundation.python.3.12_qbz5n2kfra8p0\\localcache\\local-packages\\python312\\site-packages (2.4.201)\n",
      "Requirement already satisfied: aiofiles<25.0.0,>=23.1.0 in c:\\users\\wes\\appdata\\local\\packages\\pythonsoftwarefoundation.python.3.12_qbz5n2kfra8p0\\localcache\\local-packages\\python312\\site-packages (from chainlit) (24.1.0)\n",
      "Requirement already satisfied: asyncer<0.0.8,>=0.0.7 in c:\\users\\wes\\appdata\\local\\packages\\pythonsoftwarefoundation.python.3.12_qbz5n2kfra8p0\\localcache\\local-packages\\python312\\site-packages (from chainlit) (0.0.7)\n",
      "Requirement already satisfied: click<9.0.0,>=8.1.3 in c:\\users\\wes\\appdata\\local\\packages\\pythonsoftwarefoundation.python.3.12_qbz5n2kfra8p0\\localcache\\local-packages\\python312\\site-packages (from chainlit) (8.1.8)\n",
      "Requirement already satisfied: dataclasses_json<0.7.0,>=0.6.7 in c:\\users\\wes\\appdata\\local\\packages\\pythonsoftwarefoundation.python.3.12_qbz5n2kfra8p0\\localcache\\local-packages\\python312\\site-packages (from chainlit) (0.6.7)\n",
      "Requirement already satisfied: fastapi<0.116,>=0.115.3 in c:\\users\\wes\\appdata\\local\\packages\\pythonsoftwarefoundation.python.3.12_qbz5n2kfra8p0\\localcache\\local-packages\\python312\\site-packages (from chainlit) (0.115.11)\n",
      "Requirement already satisfied: filetype<2.0.0,>=1.2.0 in c:\\users\\wes\\appdata\\local\\packages\\pythonsoftwarefoundation.python.3.12_qbz5n2kfra8p0\\localcache\\local-packages\\python312\\site-packages (from chainlit) (1.2.0)\n",
      "Requirement already satisfied: httpx>=0.23.0 in c:\\users\\wes\\appdata\\local\\packages\\pythonsoftwarefoundation.python.3.12_qbz5n2kfra8p0\\localcache\\local-packages\\python312\\site-packages (from chainlit) (0.28.1)\n",
      "Requirement already satisfied: lazify<0.5.0,>=0.4.0 in c:\\users\\wes\\appdata\\local\\packages\\pythonsoftwarefoundation.python.3.12_qbz5n2kfra8p0\\localcache\\local-packages\\python312\\site-packages (from chainlit) (0.4.0)\n",
      "Requirement already satisfied: literalai==0.1.103 in c:\\users\\wes\\appdata\\local\\packages\\pythonsoftwarefoundation.python.3.12_qbz5n2kfra8p0\\localcache\\local-packages\\python312\\site-packages (from chainlit) (0.1.103)\n",
      "Requirement already satisfied: mcp<2.0.0,>=1.3.0 in c:\\users\\wes\\appdata\\local\\packages\\pythonsoftwarefoundation.python.3.12_qbz5n2kfra8p0\\localcache\\local-packages\\python312\\site-packages (from chainlit) (1.5.0)\n",
      "Requirement already satisfied: nest-asyncio<2.0.0,>=1.6.0 in c:\\users\\wes\\appdata\\local\\packages\\pythonsoftwarefoundation.python.3.12_qbz5n2kfra8p0\\localcache\\local-packages\\python312\\site-packages (from chainlit) (1.6.0)\n",
      "Requirement already satisfied: packaging>=23.1 in c:\\users\\wes\\appdata\\local\\packages\\pythonsoftwarefoundation.python.3.12_qbz5n2kfra8p0\\localcache\\local-packages\\python312\\site-packages (from chainlit) (24.2)\n",
      "Requirement already satisfied: pydantic<3,>=2.7.2 in c:\\users\\wes\\appdata\\local\\packages\\pythonsoftwarefoundation.python.3.12_qbz5n2kfra8p0\\localcache\\local-packages\\python312\\site-packages (from chainlit) (2.10.6)\n",
      "Requirement already satisfied: pyjwt<3.0.0,>=2.8.0 in c:\\users\\wes\\appdata\\local\\packages\\pythonsoftwarefoundation.python.3.12_qbz5n2kfra8p0\\localcache\\local-packages\\python312\\site-packages (from chainlit) (2.10.1)\n",
      "Requirement already satisfied: python-dotenv<2.0.0,>=1.0.0 in c:\\users\\wes\\appdata\\local\\packages\\pythonsoftwarefoundation.python.3.12_qbz5n2kfra8p0\\localcache\\local-packages\\python312\\site-packages (from chainlit) (1.0.1)\n",
      "Requirement already satisfied: python-multipart<0.0.19,>=0.0.18 in c:\\users\\wes\\appdata\\local\\packages\\pythonsoftwarefoundation.python.3.12_qbz5n2kfra8p0\\localcache\\local-packages\\python312\\site-packages (from chainlit) (0.0.18)\n",
      "Requirement already satisfied: python-socketio<6.0.0,>=5.11.0 in c:\\users\\wes\\appdata\\local\\packages\\pythonsoftwarefoundation.python.3.12_qbz5n2kfra8p0\\localcache\\local-packages\\python312\\site-packages (from chainlit) (5.12.1)\n",
      "Requirement already satisfied: starlette<0.42.0,>=0.41.2 in c:\\users\\wes\\appdata\\local\\packages\\pythonsoftwarefoundation.python.3.12_qbz5n2kfra8p0\\localcache\\local-packages\\python312\\site-packages (from chainlit) (0.41.3)\n",
      "Requirement already satisfied: syncer<3.0.0,>=2.0.3 in c:\\users\\wes\\appdata\\local\\packages\\pythonsoftwarefoundation.python.3.12_qbz5n2kfra8p0\\localcache\\local-packages\\python312\\site-packages (from chainlit) (2.0.3)\n",
      "Requirement already satisfied: tomli<3.0.0,>=2.0.1 in c:\\users\\wes\\appdata\\local\\packages\\pythonsoftwarefoundation.python.3.12_qbz5n2kfra8p0\\localcache\\local-packages\\python312\\site-packages (from chainlit) (2.2.1)\n",
      "Requirement already satisfied: uptrace<2.0.0,>=1.29.0 in c:\\users\\wes\\appdata\\local\\packages\\pythonsoftwarefoundation.python.3.12_qbz5n2kfra8p0\\localcache\\local-packages\\python312\\site-packages (from chainlit) (1.31.0)\n",
      "Requirement already satisfied: uvicorn>=0.25.0 in c:\\users\\wes\\appdata\\local\\packages\\pythonsoftwarefoundation.python.3.12_qbz5n2kfra8p0\\localcache\\local-packages\\python312\\site-packages (from chainlit) (0.34.0)\n",
      "Requirement already satisfied: watchfiles<0.21.0,>=0.20.0 in c:\\users\\wes\\appdata\\local\\packages\\pythonsoftwarefoundation.python.3.12_qbz5n2kfra8p0\\localcache\\local-packages\\python312\\site-packages (from chainlit) (0.20.0)\n",
      "Requirement already satisfied: chevron>=0.14.0 in c:\\users\\wes\\appdata\\local\\packages\\pythonsoftwarefoundation.python.3.12_qbz5n2kfra8p0\\localcache\\local-packages\\python312\\site-packages (from literalai==0.1.103->chainlit) (0.14.0)\n",
      "Requirement already satisfied: anyio<5.0,>=3.4.0 in c:\\users\\wes\\appdata\\local\\packages\\pythonsoftwarefoundation.python.3.12_qbz5n2kfra8p0\\localcache\\local-packages\\python312\\site-packages (from asyncer<0.0.8,>=0.0.7->chainlit) (4.9.0)\n",
      "Requirement already satisfied: colorama in c:\\users\\wes\\appdata\\local\\packages\\pythonsoftwarefoundation.python.3.12_qbz5n2kfra8p0\\localcache\\local-packages\\python312\\site-packages (from click<9.0.0,>=8.1.3->chainlit) (0.4.6)\n",
      "Requirement already satisfied: marshmallow<4.0.0,>=3.18.0 in c:\\users\\wes\\appdata\\local\\packages\\pythonsoftwarefoundation.python.3.12_qbz5n2kfra8p0\\localcache\\local-packages\\python312\\site-packages (from dataclasses_json<0.7.0,>=0.6.7->chainlit) (3.26.1)\n",
      "Requirement already satisfied: typing-inspect<1,>=0.4.0 in c:\\users\\wes\\appdata\\local\\packages\\pythonsoftwarefoundation.python.3.12_qbz5n2kfra8p0\\localcache\\local-packages\\python312\\site-packages (from dataclasses_json<0.7.0,>=0.6.7->chainlit) (0.9.0)\n",
      "Requirement already satisfied: typing-extensions>=4.8.0 in c:\\users\\wes\\appdata\\local\\packages\\pythonsoftwarefoundation.python.3.12_qbz5n2kfra8p0\\localcache\\local-packages\\python312\\site-packages (from fastapi<0.116,>=0.115.3->chainlit) (4.12.2)\n",
      "Requirement already satisfied: certifi in c:\\users\\wes\\appdata\\local\\packages\\pythonsoftwarefoundation.python.3.12_qbz5n2kfra8p0\\localcache\\local-packages\\python312\\site-packages (from httpx>=0.23.0->chainlit) (2025.1.31)\n",
      "Requirement already satisfied: httpcore==1.* in c:\\users\\wes\\appdata\\local\\packages\\pythonsoftwarefoundation.python.3.12_qbz5n2kfra8p0\\localcache\\local-packages\\python312\\site-packages (from httpx>=0.23.0->chainlit) (1.0.7)\n",
      "Requirement already satisfied: idna in c:\\users\\wes\\appdata\\local\\packages\\pythonsoftwarefoundation.python.3.12_qbz5n2kfra8p0\\localcache\\local-packages\\python312\\site-packages (from httpx>=0.23.0->chainlit) (3.10)\n",
      "Requirement already satisfied: h11<0.15,>=0.13 in c:\\users\\wes\\appdata\\local\\packages\\pythonsoftwarefoundation.python.3.12_qbz5n2kfra8p0\\localcache\\local-packages\\python312\\site-packages (from httpcore==1.*->httpx>=0.23.0->chainlit) (0.14.0)\n",
      "Requirement already satisfied: httpx-sse>=0.4 in c:\\users\\wes\\appdata\\local\\packages\\pythonsoftwarefoundation.python.3.12_qbz5n2kfra8p0\\localcache\\local-packages\\python312\\site-packages (from mcp<2.0.0,>=1.3.0->chainlit) (0.4.0)\n",
      "Requirement already satisfied: pydantic-settings>=2.5.2 in c:\\users\\wes\\appdata\\local\\packages\\pythonsoftwarefoundation.python.3.12_qbz5n2kfra8p0\\localcache\\local-packages\\python312\\site-packages (from mcp<2.0.0,>=1.3.0->chainlit) (2.8.1)\n",
      "Requirement already satisfied: sse-starlette>=1.6.1 in c:\\users\\wes\\appdata\\local\\packages\\pythonsoftwarefoundation.python.3.12_qbz5n2kfra8p0\\localcache\\local-packages\\python312\\site-packages (from mcp<2.0.0,>=1.3.0->chainlit) (2.2.1)\n",
      "Requirement already satisfied: annotated-types>=0.6.0 in c:\\users\\wes\\appdata\\local\\packages\\pythonsoftwarefoundation.python.3.12_qbz5n2kfra8p0\\localcache\\local-packages\\python312\\site-packages (from pydantic<3,>=2.7.2->chainlit) (0.7.0)\n",
      "Requirement already satisfied: pydantic-core==2.27.2 in c:\\users\\wes\\appdata\\local\\packages\\pythonsoftwarefoundation.python.3.12_qbz5n2kfra8p0\\localcache\\local-packages\\python312\\site-packages (from pydantic<3,>=2.7.2->chainlit) (2.27.2)\n",
      "Requirement already satisfied: bidict>=0.21.0 in c:\\users\\wes\\appdata\\local\\packages\\pythonsoftwarefoundation.python.3.12_qbz5n2kfra8p0\\localcache\\local-packages\\python312\\site-packages (from python-socketio<6.0.0,>=5.11.0->chainlit) (0.23.1)\n",
      "Requirement already satisfied: python-engineio>=4.11.0 in c:\\users\\wes\\appdata\\local\\packages\\pythonsoftwarefoundation.python.3.12_qbz5n2kfra8p0\\localcache\\local-packages\\python312\\site-packages (from python-socketio<6.0.0,>=5.11.0->chainlit) (4.11.2)\n",
      "Requirement already satisfied: opentelemetry-api~=1.31.0 in c:\\users\\wes\\appdata\\local\\packages\\pythonsoftwarefoundation.python.3.12_qbz5n2kfra8p0\\localcache\\local-packages\\python312\\site-packages (from uptrace<2.0.0,>=1.29.0->chainlit) (1.31.1)\n",
      "Requirement already satisfied: opentelemetry-sdk~=1.31.0 in c:\\users\\wes\\appdata\\local\\packages\\pythonsoftwarefoundation.python.3.12_qbz5n2kfra8p0\\localcache\\local-packages\\python312\\site-packages (from uptrace<2.0.0,>=1.29.0->chainlit) (1.31.1)\n",
      "Requirement already satisfied: opentelemetry-exporter-otlp~=1.31.0 in c:\\users\\wes\\appdata\\local\\packages\\pythonsoftwarefoundation.python.3.12_qbz5n2kfra8p0\\localcache\\local-packages\\python312\\site-packages (from uptrace<2.0.0,>=1.29.0->chainlit) (1.31.1)\n",
      "Requirement already satisfied: opentelemetry-instrumentation~=0.52b0 in c:\\users\\wes\\appdata\\local\\packages\\pythonsoftwarefoundation.python.3.12_qbz5n2kfra8p0\\localcache\\local-packages\\python312\\site-packages (from uptrace<2.0.0,>=1.29.0->chainlit) (0.52b1)\n",
      "Requirement already satisfied: sniffio>=1.1 in c:\\users\\wes\\appdata\\local\\packages\\pythonsoftwarefoundation.python.3.12_qbz5n2kfra8p0\\localcache\\local-packages\\python312\\site-packages (from anyio<5.0,>=3.4.0->asyncer<0.0.8,>=0.0.7->chainlit) (1.3.1)\n",
      "Requirement already satisfied: deprecated>=1.2.6 in c:\\users\\wes\\appdata\\local\\packages\\pythonsoftwarefoundation.python.3.12_qbz5n2kfra8p0\\localcache\\local-packages\\python312\\site-packages (from opentelemetry-api~=1.31.0->uptrace<2.0.0,>=1.29.0->chainlit) (1.2.18)\n",
      "Requirement already satisfied: importlib-metadata<8.7.0,>=6.0 in c:\\users\\wes\\appdata\\local\\packages\\pythonsoftwarefoundation.python.3.12_qbz5n2kfra8p0\\localcache\\local-packages\\python312\\site-packages (from opentelemetry-api~=1.31.0->uptrace<2.0.0,>=1.29.0->chainlit) (8.6.1)\n",
      "Requirement already satisfied: opentelemetry-exporter-otlp-proto-grpc==1.31.1 in c:\\users\\wes\\appdata\\local\\packages\\pythonsoftwarefoundation.python.3.12_qbz5n2kfra8p0\\localcache\\local-packages\\python312\\site-packages (from opentelemetry-exporter-otlp~=1.31.0->uptrace<2.0.0,>=1.29.0->chainlit) (1.31.1)\n",
      "Requirement already satisfied: opentelemetry-exporter-otlp-proto-http==1.31.1 in c:\\users\\wes\\appdata\\local\\packages\\pythonsoftwarefoundation.python.3.12_qbz5n2kfra8p0\\localcache\\local-packages\\python312\\site-packages (from opentelemetry-exporter-otlp~=1.31.0->uptrace<2.0.0,>=1.29.0->chainlit) (1.31.1)\n",
      "Requirement already satisfied: googleapis-common-protos~=1.52 in c:\\users\\wes\\appdata\\local\\packages\\pythonsoftwarefoundation.python.3.12_qbz5n2kfra8p0\\localcache\\local-packages\\python312\\site-packages (from opentelemetry-exporter-otlp-proto-grpc==1.31.1->opentelemetry-exporter-otlp~=1.31.0->uptrace<2.0.0,>=1.29.0->chainlit) (1.69.2)\n",
      "Requirement already satisfied: grpcio<2.0.0,>=1.63.2 in c:\\users\\wes\\appdata\\local\\packages\\pythonsoftwarefoundation.python.3.12_qbz5n2kfra8p0\\localcache\\local-packages\\python312\\site-packages (from opentelemetry-exporter-otlp-proto-grpc==1.31.1->opentelemetry-exporter-otlp~=1.31.0->uptrace<2.0.0,>=1.29.0->chainlit) (1.71.0)\n",
      "Requirement already satisfied: opentelemetry-exporter-otlp-proto-common==1.31.1 in c:\\users\\wes\\appdata\\local\\packages\\pythonsoftwarefoundation.python.3.12_qbz5n2kfra8p0\\localcache\\local-packages\\python312\\site-packages (from opentelemetry-exporter-otlp-proto-grpc==1.31.1->opentelemetry-exporter-otlp~=1.31.0->uptrace<2.0.0,>=1.29.0->chainlit) (1.31.1)\n",
      "Requirement already satisfied: opentelemetry-proto==1.31.1 in c:\\users\\wes\\appdata\\local\\packages\\pythonsoftwarefoundation.python.3.12_qbz5n2kfra8p0\\localcache\\local-packages\\python312\\site-packages (from opentelemetry-exporter-otlp-proto-grpc==1.31.1->opentelemetry-exporter-otlp~=1.31.0->uptrace<2.0.0,>=1.29.0->chainlit) (1.31.1)\n",
      "Requirement already satisfied: requests~=2.7 in c:\\users\\wes\\appdata\\local\\packages\\pythonsoftwarefoundation.python.3.12_qbz5n2kfra8p0\\localcache\\local-packages\\python312\\site-packages (from opentelemetry-exporter-otlp-proto-http==1.31.1->opentelemetry-exporter-otlp~=1.31.0->uptrace<2.0.0,>=1.29.0->chainlit) (2.32.3)\n",
      "Requirement already satisfied: protobuf<6.0,>=5.0 in c:\\users\\wes\\appdata\\local\\packages\\pythonsoftwarefoundation.python.3.12_qbz5n2kfra8p0\\localcache\\local-packages\\python312\\site-packages (from opentelemetry-proto==1.31.1->opentelemetry-exporter-otlp-proto-grpc==1.31.1->opentelemetry-exporter-otlp~=1.31.0->uptrace<2.0.0,>=1.29.0->chainlit) (5.29.4)\n",
      "Requirement already satisfied: opentelemetry-semantic-conventions==0.52b1 in c:\\users\\wes\\appdata\\local\\packages\\pythonsoftwarefoundation.python.3.12_qbz5n2kfra8p0\\localcache\\local-packages\\python312\\site-packages (from opentelemetry-instrumentation~=0.52b0->uptrace<2.0.0,>=1.29.0->chainlit) (0.52b1)\n",
      "Requirement already satisfied: wrapt<2.0.0,>=1.0.0 in c:\\users\\wes\\appdata\\local\\packages\\pythonsoftwarefoundation.python.3.12_qbz5n2kfra8p0\\localcache\\local-packages\\python312\\site-packages (from opentelemetry-instrumentation~=0.52b0->uptrace<2.0.0,>=1.29.0->chainlit) (1.17.2)\n",
      "Requirement already satisfied: simple-websocket>=0.10.0 in c:\\users\\wes\\appdata\\local\\packages\\pythonsoftwarefoundation.python.3.12_qbz5n2kfra8p0\\localcache\\local-packages\\python312\\site-packages (from python-engineio>=4.11.0->python-socketio<6.0.0,>=5.11.0->chainlit) (1.1.0)\n",
      "Requirement already satisfied: mypy-extensions>=0.3.0 in c:\\users\\wes\\appdata\\local\\packages\\pythonsoftwarefoundation.python.3.12_qbz5n2kfra8p0\\localcache\\local-packages\\python312\\site-packages (from typing-inspect<1,>=0.4.0->dataclasses_json<0.7.0,>=0.6.7->chainlit) (1.0.0)\n",
      "Requirement already satisfied: zipp>=3.20 in c:\\users\\wes\\appdata\\local\\packages\\pythonsoftwarefoundation.python.3.12_qbz5n2kfra8p0\\localcache\\local-packages\\python312\\site-packages (from importlib-metadata<8.7.0,>=6.0->opentelemetry-api~=1.31.0->uptrace<2.0.0,>=1.29.0->chainlit) (3.21.0)\n",
      "Requirement already satisfied: wsproto in c:\\users\\wes\\appdata\\local\\packages\\pythonsoftwarefoundation.python.3.12_qbz5n2kfra8p0\\localcache\\local-packages\\python312\\site-packages (from simple-websocket>=0.10.0->python-engineio>=4.11.0->python-socketio<6.0.0,>=5.11.0->chainlit) (1.2.0)\n",
      "Requirement already satisfied: charset-normalizer<4,>=2 in c:\\users\\wes\\appdata\\local\\packages\\pythonsoftwarefoundation.python.3.12_qbz5n2kfra8p0\\localcache\\local-packages\\python312\\site-packages (from requests~=2.7->opentelemetry-exporter-otlp-proto-http==1.31.1->opentelemetry-exporter-otlp~=1.31.0->uptrace<2.0.0,>=1.29.0->chainlit) (3.4.1)\n",
      "Requirement already satisfied: urllib3<3,>=1.21.1 in c:\\users\\wes\\appdata\\local\\packages\\pythonsoftwarefoundation.python.3.12_qbz5n2kfra8p0\\localcache\\local-packages\\python312\\site-packages (from requests~=2.7->opentelemetry-exporter-otlp-proto-http==1.31.1->opentelemetry-exporter-otlp~=1.31.0->uptrace<2.0.0,>=1.29.0->chainlit) (2.3.0)\n"
     ]
    }
   ],
   "source": [
    "! pip install chainlit"
   ]
  },
  {
   "cell_type": "code",
   "execution_count": 58,
   "metadata": {},
   "outputs": [
    {
     "name": "stdout",
     "output_type": "stream",
     "text": [
      "2025-04-01 11:58:14 - HTTP Request: POST http://127.0.0.1:11434/api/embed \"HTTP/1.1 200 OK\"\n",
      "2025-04-01 11:58:15 - Your app is available at http://localhost:8000\n"
     ]
    },
    {
     "name": "stderr",
     "output_type": "stream",
     "text": [
      "C:\\Users\\Wes\\AppData\\Local\\Packages\\PythonSoftwareFoundation.Python.3.12_qbz5n2kfra8p0\\LocalCache\\local-packages\\Python312\\site-packages\\langsmith\\client.py:277: LangSmithMissingAPIKeyWarning: API key must be provided when using hosted LangSmith API\n",
      "  warnings.warn(\n",
      "ERROR:    [Errno 10048] error while attempting to bind on address ('127.0.0.1', 8000): [winerror 10048] only one usage of each socket address (protocol/network address/port) is normally permitted\n"
     ]
    }
   ],
   "source": [
    "! chainlit run app.py"
   ]
  }
 ],
 "metadata": {
  "kernelspec": {
   "display_name": "Python 3",
   "language": "python",
   "name": "python3"
  },
  "language_info": {
   "codemirror_mode": {
    "name": "ipython",
    "version": 3
   },
   "file_extension": ".py",
   "mimetype": "text/x-python",
   "name": "python",
   "nbconvert_exporter": "python",
   "pygments_lexer": "ipython3",
   "version": "3.12.9"
  }
 },
 "nbformat": 4,
 "nbformat_minor": 2
}
